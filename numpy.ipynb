{
 "cells": [
  {
   "cell_type": "code",
   "execution_count": 1,
   "metadata": {},
   "outputs": [],
   "source": [
    "import numpy as np"
   ]
  },
  {
   "cell_type": "code",
   "execution_count": 3,
   "metadata": {},
   "outputs": [
    {
     "name": "stdout",
     "output_type": "stream",
     "text": [
      "['1' 'text' '0.3333333333333333' 'True']\n"
     ]
    }
   ],
   "source": [
    "a = np.array([1,'text',1/3,True])\n",
    "print(a)"
   ]
  },
  {
   "cell_type": "code",
   "execution_count": 24,
   "metadata": {},
   "outputs": [
    {
     "name": "stdout",
     "output_type": "stream",
     "text": [
      "[0. 0. 0. 0. 0. 0. 0. 0. 0. 0. 0. 0. 0. 0. 0. 0.]\n",
      "[1. 1. 1. 1. 1. 1. 1. 1. 1. 1. 1. 1. 1. 1. 1. 1.]\n",
      "[0.  0.5 1.  1.5 2.  2.5 3.  3.5 4.  4.5 5.  5.5 6.  6.5 7.  7.5]\n",
      "[ 0.   0.5  1.   1.5  2.   2.5  3.   3.5  4.   4.5  5.   5.5  6.   6.5\n",
      "  7.   7.5  8.   8.5  9.   9.5 10. ]\n"
     ]
    }
   ],
   "source": [
    "print(np.zeros(16))\n",
    "print(np.ones(16))\n",
    "print(np.arange(0,8,0.5))"
   ]
  },
  {
   "cell_type": "code",
   "execution_count": 25,
   "metadata": {},
   "outputs": [
    {
     "name": "stdout",
     "output_type": "stream",
     "text": [
      "[ 0.          0.66666667  1.33333333  2.          2.66666667  3.33333333\n",
      "  4.          4.66666667  5.33333333  6.          6.66666667  7.33333333\n",
      "  8.          8.66666667  9.33333333 10.        ]\n"
     ]
    }
   ],
   "source": [
    "print(np.linspace(0,10,16))"
   ]
  },
  {
   "cell_type": "code",
   "execution_count": 41,
   "metadata": {},
   "outputs": [
    {
     "name": "stdout",
     "output_type": "stream",
     "text": [
      "[[0.23467097 0.40208674 0.69116945]\n",
      " [0.78958846 0.15562906 0.87352146]\n",
      " [0.12987639 0.8903616  0.50039813]\n",
      " [0.17250486 0.02323392 0.51639646]]\n"
     ]
    }
   ],
   "source": [
    "a = np.random.rand(4,3)\n",
    "print(a)"
   ]
  },
  {
   "cell_type": "code",
   "execution_count": 44,
   "metadata": {},
   "outputs": [
    {
     "data": {
      "text/plain": [
       "(4, 3)"
      ]
     },
     "execution_count": 44,
     "metadata": {},
     "output_type": "execute_result"
    }
   ],
   "source": [
    "a.shape"
   ]
  },
  {
   "cell_type": "code",
   "execution_count": 43,
   "metadata": {},
   "outputs": [
    {
     "data": {
      "text/plain": [
       "0.23467097451293362"
      ]
     },
     "execution_count": 43,
     "metadata": {},
     "output_type": "execute_result"
    }
   ],
   "source": [
    "a[0,0]"
   ]
  },
  {
   "cell_type": "code",
   "execution_count": 46,
   "metadata": {},
   "outputs": [
    {
     "name": "stdout",
     "output_type": "stream",
     "text": [
      "[0.23467097 0.40208674 0.69116945]\n",
      "[0.23467097 0.40208674 0.69116945]\n"
     ]
    }
   ],
   "source": [
    "print(a[0])\n",
    "print(a[0,:])"
   ]
  },
  {
   "cell_type": "code",
   "execution_count": 50,
   "metadata": {},
   "outputs": [
    {
     "data": {
      "text/plain": [
       "array([0.23467097, 0.78958846, 0.12987639, 0.17250486])"
      ]
     },
     "execution_count": 50,
     "metadata": {},
     "output_type": "execute_result"
    }
   ],
   "source": [
    "a[:,0]"
   ]
  },
  {
   "cell_type": "code",
   "execution_count": 52,
   "metadata": {},
   "outputs": [
    {
     "data": {
      "text/plain": [
       "array([0.23467097, 0.78958846])"
      ]
     },
     "execution_count": 52,
     "metadata": {},
     "output_type": "execute_result"
    }
   ],
   "source": [
    "a[:2,0]"
   ]
  },
  {
   "cell_type": "code",
   "execution_count": 47,
   "metadata": {},
   "outputs": [
    {
     "data": {
      "text/plain": [
       "array([[0.23467097, 0.78958846, 0.12987639, 0.17250486],\n",
       "       [0.40208674, 0.15562906, 0.8903616 , 0.02323392],\n",
       "       [0.69116945, 0.87352146, 0.50039813, 0.51639646]])"
      ]
     },
     "execution_count": 47,
     "metadata": {},
     "output_type": "execute_result"
    }
   ],
   "source": [
    "a.T"
   ]
  },
  {
   "cell_type": "code",
   "execution_count": 56,
   "metadata": {},
   "outputs": [
    {
     "name": "stdout",
     "output_type": "stream",
     "text": [
      "0.4482864601096868\n",
      "0.2958903938527235\n"
     ]
    }
   ],
   "source": [
    "print(a.mean())\n",
    "print(a.std())"
   ]
  },
  {
   "cell_type": "code",
   "execution_count": 57,
   "metadata": {},
   "outputs": [
    {
     "name": "stdout",
     "output_type": "stream",
     "text": [
      "[0.33166017 0.36782783 0.64537138]\n",
      "[0.26699828 0.3309035  0.15149398]\n"
     ]
    }
   ],
   "source": [
    "print(a.mean(axis=0))\n",
    "print(a.std(axis=0))"
   ]
  },
  {
   "cell_type": "code",
   "execution_count": 59,
   "metadata": {},
   "outputs": [
    {
     "name": "stdout",
     "output_type": "stream",
     "text": [
      "[0.44264239 0.60624633 0.50687871 0.23737841]\n",
      "[0.18855819 0.32047166 0.3105006  0.20649254]\n"
     ]
    }
   ],
   "source": [
    "print(a.mean(axis=1))\n",
    "print(a.std(axis=1))"
   ]
  },
  {
   "cell_type": "code",
   "execution_count": 60,
   "metadata": {},
   "outputs": [
    {
     "data": {
      "text/plain": [
       "array([[1.23467097, 1.40208674, 1.69116945],\n",
       "       [1.78958846, 1.15562906, 1.87352146],\n",
       "       [1.12987639, 1.8903616 , 1.50039813],\n",
       "       [1.17250486, 1.02323392, 1.51639646]])"
      ]
     },
     "execution_count": 60,
     "metadata": {},
     "output_type": "execute_result"
    }
   ],
   "source": [
    "a+1"
   ]
  },
  {
   "cell_type": "code",
   "execution_count": 61,
   "metadata": {},
   "outputs": [
    {
     "data": {
      "text/plain": [
       "array([0.23467097, 0.40208674, 0.69116945, 0.78958846, 0.15562906,\n",
       "       0.87352146, 0.12987639, 0.8903616 , 0.50039813, 0.17250486,\n",
       "       0.02323392, 0.51639646])"
      ]
     },
     "execution_count": 61,
     "metadata": {},
     "output_type": "execute_result"
    }
   ],
   "source": [
    "a.flatten()"
   ]
  },
  {
   "cell_type": "code",
   "execution_count": null,
   "metadata": {},
   "outputs": [],
   "source": [
    "a.res()"
   ]
  },
  {
   "cell_type": "code",
   "execution_count": 33,
   "metadata": {},
   "outputs": [
    {
     "data": {
      "text/plain": [
       "array([[1.40577882, 1.08064087, 1.18556468],\n",
       "       [1.00010981, 0.78303783, 1.20238066],\n",
       "       [1.23707742, 0.46179951, 0.64546158],\n",
       "       [1.26416765, 1.70985744, 1.52539127]])"
      ]
     },
     "execution_count": 33,
     "metadata": {},
     "output_type": "execute_result"
    }
   ],
   "source": [
    "a+b"
   ]
  },
  {
   "cell_type": "code",
   "execution_count": 34,
   "metadata": {},
   "outputs": [
    {
     "data": {
      "text/plain": [
       "array([[0.44660978, 0.09352872, 0.34938256],\n",
       "       [0.18790383, 0.01892153, 0.25716522],\n",
       "       [0.37459233, 0.05312051, 0.04336181],\n",
       "       [0.31072541, 0.72986323, 0.5588904 ]])"
      ]
     },
     "execution_count": 34,
     "metadata": {},
     "output_type": "execute_result"
    }
   ],
   "source": [
    "a*b"
   ]
  },
  {
   "cell_type": "code",
   "execution_count": 40,
   "metadata": {},
   "outputs": [
    {
     "data": {
      "text/plain": [
       "array([[-0.47967036, -0.32123414,  0.86157186],\n",
       "       [-0.18790037, -0.02318083,  0.17138704],\n",
       "       [ 0.10486816, -0.24729372, -0.02406017],\n",
       "       [-0.30745324,  0.6455127 , -0.46877301]])"
      ]
     },
     "execution_count": 40,
     "metadata": {},
     "output_type": "execute_result"
    }
   ],
   "source": [
    "np.cross(a,b)"
   ]
  },
  {
   "cell_type": "code",
   "execution_count": null,
   "metadata": {},
   "outputs": [],
   "source": []
  }
 ],
 "metadata": {
  "kernelspec": {
   "display_name": "Python 3",
   "language": "python",
   "name": "python3"
  },
  "language_info": {
   "codemirror_mode": {
    "name": "ipython",
    "version": 3
   },
   "file_extension": ".py",
   "mimetype": "text/x-python",
   "name": "python",
   "nbconvert_exporter": "python",
   "pygments_lexer": "ipython3",
   "version": "3.8.2"
  }
 },
 "nbformat": 4,
 "nbformat_minor": 2
}
